{
 "cells": [
  {
   "cell_type": "code",
   "execution_count": 1,
   "metadata": {
    "collapsed": false
   },
   "outputs": [],
   "source": [
    "import os\n",
    "import re\n",
    "import csv\n",
    "import glob\n",
    "import pandas as pd\n",
    "from enum import Enum\n",
    "\n",
    "import numpy as np\n",
    "import matplotlib.pyplot as plt\n",
    "import scipy.stats as stats\n",
    "\n",
    "column_names = ['CURRENT_SAC_END_TIME', 'CURRENT_SAC_AVG_VELOCITY', 'CURRENT_SAC_PEAK_VELOCITY', 'CURRENT_SAC_DURATION']\n",
    "column_names_fix = ['CURRENT_FIX_END', 'CURRENT_FIX_DURATION']\n",
    "column_dict = {}\n",
    "skip_val = ['.']\n",
    "\n",
    "step = 30000\n",
    "\n",
    "class PType(Enum):\n",
    "    Healthy = 'Healthy'\n",
    "    Treat = 'Treat'\n",
    "    Slut = 'Stut'\n",
    "\n",
    "# class Health(Enum):\n",
    "#     Healthy = \"Без заикания\"\n",
    "#     Stut = \"С заиканием\"\n",
    "#     Treat = \"Во время лечения\"\n",
    "Health = [\"Без заикания\", \"До лечения\", \"Во время лечения\"]"
   ]
  },
  {
   "cell_type": "code",
   "execution_count": 6,
   "metadata": {
    "collapsed": false
   },
   "outputs": [],
   "source": [
    "class EyeDat:\n",
    "    def __init__(self,health,exp,trial):\n",
    "        self.health = health\n",
    "        self.exp = exp\n",
    "        fnames = glob.glob(\"./Eyetrack//{}/*/Fix*_{}*\".format(health,exp))\n",
    "        df_s = [pd.read_csv(n,delimiter='\\t',decimal=',')for n in fnames]\n",
    "        lst = []\n",
    "        for df in df_s:\n",
    "            lst.append(df[(df[\"CURRENT_FIX_END\"] // step) % 3 == trial])\n",
    "        df = pd.concat(lst)\n",
    "        self.df = df\n",
    "    def hist_calc(self, axes):\n",
    "#         mean = np.array((self.df[\"CURRENT_FIX_X\"].mean(), self.df[\"CURRENT_FIX_Y\"].mean()))\n",
    "#         pairs = ([np.linalg.norm(x - mean) for x in np.array((self.df[\"CURRENT_FIX_X\"],self.df[\"CURRENT_FIX_Y\"])).transpose()],self.df[\"CURRENT_FIX_DURATION\"])\n",
    "        pairs =( ,self.df[\"CURRENT_FIX_DURATION\"])\n",
    "        axes.scatter(pairs[0],pairs[1], s = 4)\n",
    "        axes.ticklabel_format(style='sci', axis='y', scilimits=(0,0))\n",
    "        if self.exp == 1 : axes.set_ylabel(self.health)\n",
    "        if self.health == \"Во время лечения\" : axes.set_xlabel(\"Эксперимент \"+ str(self.exp))\n",
    "        "
   ]
  },
  {
   "cell_type": "code",
   "execution_count": 146,
   "metadata": {
    "collapsed": false
   },
   "outputs": [],
   "source": [
    "f, axarr = plt.subplots(3, 4)\n",
    "i = 0\n",
    "for cond in Health:\n",
    "    for exp in range(1,5):\n",
    "        dat = EyeDat(cond,exp,0)        \n",
    "        dat.hist_calc(axarr[i,exp-1])      \n",
    "    i+=1\n",
    "        \n",
    "f.set_label(\"Длительность фиксации\")\n",
    "f.show()"
   ]
  },
  {
   "cell_type": "code",
   "execution_count": 27,
   "metadata": {
    "collapsed": false
   },
   "outputs": [],
   "source": [
    "plt.scatter(df[\"CURRENT_FIX_DURATION\"],df[\"NEXT_FIX_DISTANCE\"]);"
   ]
  },
  {
   "cell_type": "code",
   "execution_count": 140,
   "metadata": {
    "collapsed": false
   },
   "outputs": [],
   "source": [
    "ax = axarr[0,0]"
   ]
  },
  {
   "cell_type": "code",
   "execution_count": 144,
   "metadata": {
    "collapsed": false
   },
   "outputs": [
    {
     "name": "stdout",
     "output_type": "stream",
     "text": [
      "Object `plt.text.Text` not found.\n"
     ]
    }
   ],
   "source": [
    "?plt.text.Text"
   ]
  },
  {
   "cell_type": "code",
   "execution_count": 57,
   "metadata": {
    "collapsed": false
   },
   "outputs": [
    {
     "name": "stdout",
     "output_type": "stream",
     "text": [
      "Без заикания0\n",
      "Без заикания1\n",
      "Без заикания2\n",
      "Без заикания3\n",
      "С заиканием0\n",
      "С заиканием1\n",
      "С заиканием2\n",
      "С заиканием3\n",
      "Во время лечения0\n",
      "Во время лечения1\n",
      "Во время лечения2\n",
      "Во время лечения3\n"
     ]
    }
   ],
   "source": [
    "for cond in Health:\n",
    "    for exp in range(4):\n",
    "        print(cond + str(exp))"
   ]
  },
  {
   "cell_type": "code",
   "execution_count": 56,
   "metadata": {
    "collapsed": false
   },
   "outputs": [
    {
     "data": {
      "text/html": [
       "<div>\n",
       "<table border=\"1\" class=\"dataframe\">\n",
       "  <thead>\n",
       "    <tr style=\"text-align: right;\">\n",
       "      <th></th>\n",
       "      <th>LEFT_GAZE_X</th>\n",
       "      <th>LEFT_GAZE_Y</th>\n",
       "    </tr>\n",
       "  </thead>\n",
       "  <tbody>\n",
       "    <tr>\n",
       "      <th>1</th>\n",
       "      <td>409,80</td>\n",
       "      <td>525,30</td>\n",
       "    </tr>\n",
       "    <tr>\n",
       "      <th>2</th>\n",
       "      <td>409,40</td>\n",
       "      <td>527,50</td>\n",
       "    </tr>\n",
       "    <tr>\n",
       "      <th>3</th>\n",
       "      <td>408,90</td>\n",
       "      <td>527,40</td>\n",
       "    </tr>\n",
       "    <tr>\n",
       "      <th>4</th>\n",
       "      <td>408,80</td>\n",
       "      <td>523,30</td>\n",
       "    </tr>\n",
       "    <tr>\n",
       "      <th>5</th>\n",
       "      <td>408,80</td>\n",
       "      <td>523,10</td>\n",
       "    </tr>\n",
       "    <tr>\n",
       "      <th>6</th>\n",
       "      <td>409,30</td>\n",
       "      <td>518,50</td>\n",
       "    </tr>\n",
       "    <tr>\n",
       "      <th>7</th>\n",
       "      <td>409,30</td>\n",
       "      <td>517,60</td>\n",
       "    </tr>\n",
       "    <tr>\n",
       "      <th>8</th>\n",
       "      <td>408,90</td>\n",
       "      <td>517,60</td>\n",
       "    </tr>\n",
       "    <tr>\n",
       "      <th>9</th>\n",
       "      <td>409,10</td>\n",
       "      <td>526,50</td>\n",
       "    </tr>\n",
       "  </tbody>\n",
       "</table>\n",
       "</div>"
      ],
      "text/plain": [
       "  LEFT_GAZE_X LEFT_GAZE_Y\n",
       "1      409,80      525,30\n",
       "2      409,40      527,50\n",
       "3      408,90      527,40\n",
       "4      408,80      523,30\n",
       "5      408,80      523,10\n",
       "6      409,30      518,50\n",
       "7      409,30      517,60\n",
       "8      408,90      517,60\n",
       "9      409,10      526,50"
      ]
     },
     "execution_count": 56,
     "metadata": {},
     "output_type": "execute_result"
    }
   ],
   "source": [
    "# glob.glob(\"./Eyetrack/Без заикания/633*/Simp*_4*\")\n",
    "dat = pd.read_csv(glob.glob(\"./Eyetrack/Без заикания/633*/Simp*_4*\")[0],delimiter='\\t',decimal=',')\n",
    "dat = dat.dropna()\n",
    "d = dat[[\"LEFT_GAZE_X\",\"LEFT_GAZE_Y\"]][1:10]\n",
    "d"
   ]
  },
  {
   "cell_type": "code",
   "execution_count": 5,
   "metadata": {
    "collapsed": false
   },
   "outputs": [
    {
     "data": {
      "text/plain": [
       "['633 Новожилов', '647 Эйдлина']"
      ]
     },
     "execution_count": 5,
     "metadata": {},
     "output_type": "execute_result"
    }
   ],
   "source": [
    "os.listdir(\"./Eyetrack/Без заикания/\")"
   ]
  },
  {
   "cell_type": "code",
   "execution_count": null,
   "metadata": {
    "collapsed": true
   },
   "outputs": [],
   "source": []
  }
 ],
 "metadata": {
  "kernelspec": {
   "display_name": "Python 3",
   "language": "python",
   "name": "python3"
  },
  "language_info": {
   "codemirror_mode": {
    "name": "ipython",
    "version": 3
   },
   "file_extension": ".py",
   "mimetype": "text/x-python",
   "name": "python",
   "nbconvert_exporter": "python",
   "pygments_lexer": "ipython3",
   "version": "3.6.0"
  }
 },
 "nbformat": 4,
 "nbformat_minor": 2
}
