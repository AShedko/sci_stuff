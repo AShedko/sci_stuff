{
 "cells": [
  {
   "cell_type": "code",
   "execution_count": 110,
   "metadata": {
    "collapsed": false
   },
   "outputs": [],
   "source": [
    "import os\n",
    "import re\n",
    "import csv\n",
    "import glob\n",
    "import pandas as pd\n",
    "from enum import Enum\n",
    "\n",
    "import numpy as np\n",
    "import matplotlib.pyplot as plt\n",
    "import scipy.stats as stats\n",
    "\n",
    "column_names = ['CURRENT_SAC_END_TIME', 'CURRENT_SAC_AVG_VELOCITY', 'CURRENT_SAC_PEAK_VELOCITY', 'CURRENT_SAC_DURATION']\n",
    "column_names_fix = ['CURRENT_FIX_END', 'CURRENT_FIX_DURATION']\n",
    "column_dict = {}\n",
    "skip_val = ['.']\n",
    "\n",
    "step = 30000\n",
    "\n",
    "class PType(Enum):\n",
    "    Healthy = 'Healthy'\n",
    "    Treat = 'Treat'\n",
    "    Slut = 'Stut'\n",
    "\n",
    "class Health(Enum):\n",
    "    Healthy = \"Без заикания\"\n",
    "    Stut = \"С заиканием\"\n",
    "    Treat = \"Во время лечения\""
   ]
  },
  {
   "cell_type": "code",
   "execution_count": 103,
   "metadata": {
    "collapsed": false
   },
   "outputs": [],
   "source": [
    "class EyeDat:\n",
    "    def __init__(self,health,exp,trial):\n",
    "        fnames = glob.glob(\"./Eyetrack//{}/*/Fix*_{}*\".format(health,exp))\n",
    "        df_s = [pd.read_csv(n,delimiter='\\t',decimal=',')for n in fnames]\n",
    "        lst = []\n",
    "        for df in df_s:\n",
    "            lst.append(df[(df[\"CURRENT_FIX_END\"] // step) % 3 == trial])\n",
    "        df = pd.concat(lst)\n",
    "        df[\"NEXT_FIX_DISTANCE\"] = [ x.replace(',', '.') for x in df[\"NEXT_FIX_DISTANCE\"] ]\n",
    "        df[\"NEXT_FIX_DISTANCE\"].astype(float)\n",
    "        self.df = df\n",
    "    \n",
    "    def hist_calc(self):\n",
    "        pass\n",
    "        "
   ]
  },
  {
   "cell_type": "code",
   "execution_count": 104,
   "metadata": {
    "collapsed": false
   },
   "outputs": [],
   "source": [
    "# df[\"NEXT_FIX_DISTANCE\"].astype(float)"
   ]
  },
  {
   "cell_type": "code",
   "execution_count": 105,
   "metadata": {
    "collapsed": false
   },
   "outputs": [],
   "source": [
    "df = EyeDat(\"Во время лечения\",3,1).df"
   ]
  },
  {
   "cell_type": "code",
   "execution_count": 112,
   "metadata": {
    "collapsed": false
   },
   "outputs": [
    {
     "data": {
      "image/png": "[encoded data removed]",
      "text/plain": [
       "<matplotlib.figure.Figure at 0x7f7314288860>"
      ]
     },
     "metadata": {},
     "output_type": "display_data"
    }
   ],
   "source": [
    "plt.scatter(df[\"CURRENT_FIX_DURATION\"],df[\"NEXT_FIX_DISTANCE\"]);"
   ]
  },
  {
   "cell_type": "code",
   "execution_count": 113,
   "metadata": {
    "collapsed": false
   },
   "outputs": [],
   "source": [
    "plt.show()"
   ]
  },
  {
   "cell_type": "code",
   "execution_count": null,
   "metadata": {
    "collapsed": false
   },
   "outputs": [],
   "source": []
  },
  {
   "cell_type": "code",
   "execution_count": null,
   "metadata": {
    "collapsed": true
   },
   "outputs": [],
   "source": []
  }
 ],
 "metadata": {
  "kernelspec": {
   "display_name": "Python 3",
   "language": "python",
   "name": "python3"
  },
  "language_info": {
   "codemirror_mode": {
    "name": "ipython",
    "version": 3
   },
   "file_extension": ".py",
   "mimetype": "text/x-python",
   "name": "python",
   "nbconvert_exporter": "python",
   "pygments_lexer": "ipython3",
   "version": "3.6.0"
  }
 },
 "nbformat": 4,
 "nbformat_minor": 2
}
